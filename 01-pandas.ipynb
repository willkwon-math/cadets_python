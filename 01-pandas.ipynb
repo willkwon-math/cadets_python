{
 "cells": [
  {
   "cell_type": "markdown",
   "metadata": {},
   "source": [
    "# Split"
   ]
  },
  {
   "cell_type": "code",
   "execution_count": 1,
   "metadata": {},
   "outputs": [],
   "source": [
    "import pandas as pd\n",
    "\n",
    "a = \"중령/김나연/소보로빵\"\n",
    "b=a.split('/')\n",
    "pblist = []\n",
    "pblist.append(b)"
   ]
  },
  {
   "cell_type": "code",
   "execution_count": 2,
   "metadata": {},
   "outputs": [
    {
     "data": {
      "text/html": [
       "<div>\n",
       "<style scoped>\n",
       "    .dataframe tbody tr th:only-of-type {\n",
       "        vertical-align: middle;\n",
       "    }\n",
       "\n",
       "    .dataframe tbody tr th {\n",
       "        vertical-align: top;\n",
       "    }\n",
       "\n",
       "    .dataframe thead th {\n",
       "        text-align: right;\n",
       "    }\n",
       "</style>\n",
       "<table border=\"1\" class=\"dataframe\">\n",
       "  <thead>\n",
       "    <tr style=\"text-align: right;\">\n",
       "      <th></th>\n",
       "      <th>계급</th>\n",
       "      <th>이름</th>\n",
       "      <th>빵</th>\n",
       "    </tr>\n",
       "  </thead>\n",
       "  <tbody>\n",
       "    <tr>\n",
       "      <th>0</th>\n",
       "      <td>중령</td>\n",
       "      <td>김나연</td>\n",
       "      <td>소보로빵</td>\n",
       "    </tr>\n",
       "  </tbody>\n",
       "</table>\n",
       "</div>"
      ],
      "text/plain": [
       "   계급   이름     빵\n",
       "0  중령  김나연  소보로빵"
      ]
     },
     "execution_count": 2,
     "metadata": {},
     "output_type": "execute_result"
    }
   ],
   "source": [
    "PB=pd.DataFrame(data=pblist, columns=['계급','이름','빵'])\n",
    "PB"
   ]
  },
  {
   "cell_type": "markdown",
   "metadata": {},
   "source": [
    "# 파일 부른 후 엑셀 만들기"
   ]
  },
  {
   "cell_type": "code",
   "execution_count": 3,
   "metadata": {},
   "outputs": [
    {
     "data": {
      "text/html": [
       "<div>\n",
       "<style scoped>\n",
       "    .dataframe tbody tr th:only-of-type {\n",
       "        vertical-align: middle;\n",
       "    }\n",
       "\n",
       "    .dataframe tbody tr th {\n",
       "        vertical-align: top;\n",
       "    }\n",
       "\n",
       "    .dataframe thead th {\n",
       "        text-align: right;\n",
       "    }\n",
       "</style>\n",
       "<table border=\"1\" class=\"dataframe\">\n",
       "  <thead>\n",
       "    <tr style=\"text-align: right;\">\n",
       "      <th></th>\n",
       "      <th>계급</th>\n",
       "      <th>이름</th>\n",
       "      <th>빵</th>\n",
       "    </tr>\n",
       "  </thead>\n",
       "  <tbody>\n",
       "    <tr>\n",
       "      <th>0</th>\n",
       "      <td>중령</td>\n",
       "      <td>김나연</td>\n",
       "      <td>소보로빵</td>\n",
       "    </tr>\n",
       "    <tr>\n",
       "      <th>1</th>\n",
       "      <td>중령</td>\n",
       "      <td>김다현</td>\n",
       "      <td>초코소라빵</td>\n",
       "    </tr>\n",
       "    <tr>\n",
       "      <th>2</th>\n",
       "      <td>소령</td>\n",
       "      <td>김사나</td>\n",
       "      <td>사라다빵</td>\n",
       "    </tr>\n",
       "    <tr>\n",
       "      <th>3</th>\n",
       "      <td>중위</td>\n",
       "      <td>유정연</td>\n",
       "      <td>초코케이크</td>\n",
       "    </tr>\n",
       "  </tbody>\n",
       "</table>\n",
       "</div>"
      ],
      "text/plain": [
       "   계급   이름      빵\n",
       "0  중령  김나연   소보로빵\n",
       "1  중령  김다현  초코소라빵\n",
       "2  소령  김사나   사라다빵\n",
       "3  중위  유정연  초코케이크"
      ]
     },
     "execution_count": 3,
     "metadata": {},
     "output_type": "execute_result"
    }
   ],
   "source": [
    "f = open(\"01-pandas_example.txt\", 'r',encoding='utf-8')\n",
    "\n",
    "pb_newlist = []\n",
    "lines = f.readlines()\n",
    "for line in lines:\n",
    "    b=line.rstrip().split('/') #개행문자 제거\n",
    "    pb_newlist.append(b)\n",
    "\n",
    "f.close()\n",
    "PB_new = pd.DataFrame(data=pb_newlist, columns=['계급','이름','빵'])\n",
    "PB_new"
   ]
  },
  {
   "cell_type": "markdown",
   "metadata": {},
   "source": [
    "# 카톡메시지로 받은 것을 가공하기\n",
    "\n",
    "https://hashcode.co.kr/questions/9688/%EC%A0%95%EA%B7%9C%ED%91%9C%ED%98%84%EC%8B%9D-%ED%8A%B9%EC%A0%95%EB%AC%B8%EC%9E%90%EC%97%B4-%EC%A0%9C%EA%B1%B0%ED%95%98%EA%B8%B0"
   ]
  },
  {
   "cell_type": "code",
   "execution_count": 4,
   "metadata": {},
   "outputs": [
    {
     "data": {
      "text/html": [
       "<div>\n",
       "<style scoped>\n",
       "    .dataframe tbody tr th:only-of-type {\n",
       "        vertical-align: middle;\n",
       "    }\n",
       "\n",
       "    .dataframe tbody tr th {\n",
       "        vertical-align: top;\n",
       "    }\n",
       "\n",
       "    .dataframe thead th {\n",
       "        text-align: right;\n",
       "    }\n",
       "</style>\n",
       "<table border=\"1\" class=\"dataframe\">\n",
       "  <thead>\n",
       "    <tr style=\"text-align: right;\">\n",
       "      <th></th>\n",
       "      <th>기수</th>\n",
       "      <th>이름</th>\n",
       "      <th>행선지</th>\n",
       "    </tr>\n",
       "  </thead>\n",
       "  <tbody>\n",
       "    <tr>\n",
       "      <th>0</th>\n",
       "      <td>71기</td>\n",
       "      <td>김쯔위</td>\n",
       "      <td>서울</td>\n",
       "    </tr>\n",
       "    <tr>\n",
       "      <th>1</th>\n",
       "      <td>71기</td>\n",
       "      <td>이미나</td>\n",
       "      <td>진주</td>\n",
       "    </tr>\n",
       "    <tr>\n",
       "      <th>2</th>\n",
       "      <td>71기</td>\n",
       "      <td>손채영</td>\n",
       "      <td>거제</td>\n",
       "    </tr>\n",
       "    <tr>\n",
       "      <th>3</th>\n",
       "      <td>72기</td>\n",
       "      <td>박모모</td>\n",
       "      <td>거제</td>\n",
       "    </tr>\n",
       "  </tbody>\n",
       "</table>\n",
       "</div>"
      ],
      "text/plain": [
       "    기수   이름 행선지\n",
       "0  71기  김쯔위  서울\n",
       "1  71기  이미나  진주\n",
       "2  71기  손채영  거제\n",
       "3  72기  박모모  거제"
      ]
     },
     "execution_count": 4,
     "metadata": {},
     "output_type": "execute_result"
    }
   ],
   "source": [
    "import re\n",
    "\n",
    "f = open(\"01-pandas_example2.txt\", 'r', encoding='utf-8')\n",
    "\n",
    "travel_newlist = []\n",
    "lines = f.readlines()\n",
    "\n",
    "for line in lines:\n",
    "    b=line.rstrip()\n",
    "    parse = re.sub('^\\[\\w+\\]\\s+\\[\\w+\\s+\\d+[:]\\d+\\]\\s','',b)\n",
    "    parse_split = parse.split('/')\n",
    "    travel_newlist.append(parse_split)\n",
    "    \n",
    "f.close()\n",
    "travel_new = pd.DataFrame(data=travel_newlist, columns=['기수','이름','행선지'])\n",
    "travel_new"
   ]
  },
  {
   "cell_type": "code",
   "execution_count": 5,
   "metadata": {},
   "outputs": [
    {
     "name": "stdout",
     "output_type": "stream",
     "text": [
      "    기수   이름 행선지\n",
      "0  71기  김쯔위  서울\n"
     ]
    }
   ],
   "source": [
    "#서울이 행선지인 사람만 고르기\n",
    "\n",
    "seoul_cadet=travel_new['행선지'] =='서울'\n",
    "sub1=travel_new[seoul_cadet]\n",
    "print(sub1)"
   ]
  },
  {
   "cell_type": "code",
   "execution_count": 6,
   "metadata": {},
   "outputs": [
    {
     "name": "stdout",
     "output_type": "stream",
     "text": [
      "    기수   이름 행선지\n",
      "2  71기  손채영  거제\n",
      "3  72기  박모모  거제\n"
     ]
    }
   ],
   "source": [
    "geoje_cadet=travel_new['행선지'] =='거제'\n",
    "sub2=travel_new[geoje_cadet]\n",
    "print(sub2)"
   ]
  }
 ],
 "metadata": {
  "kernelspec": {
   "display_name": "Python 3",
   "language": "python",
   "name": "python3"
  },
  "language_info": {
   "codemirror_mode": {
    "name": "ipython",
    "version": 3
   },
   "file_extension": ".py",
   "mimetype": "text/x-python",
   "name": "python",
   "nbconvert_exporter": "python",
   "pygments_lexer": "ipython3",
   "version": "3.8.3"
  }
 },
 "nbformat": 4,
 "nbformat_minor": 4
}
